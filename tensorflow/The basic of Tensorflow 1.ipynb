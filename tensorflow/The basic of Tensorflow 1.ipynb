{
 "cells": [
  {
   "cell_type": "code",
   "execution_count": 1,
   "id": "f004dc1e",
   "metadata": {},
   "outputs": [],
   "source": [
    "# import tensorflow \n",
    "\n",
    "import tensorflow as tf\n",
    "import numpy as np"
   ]
  },
  {
   "cell_type": "code",
   "execution_count": 2,
   "id": "24aa7df1",
   "metadata": {},
   "outputs": [
    {
     "data": {
      "text/plain": [
       "<tf.Tensor: shape=(2,), dtype=float32, numpy=array([0., 0.], dtype=float32)>"
      ]
     },
     "execution_count": 2,
     "metadata": {},
     "output_type": "execute_result"
    }
   ],
   "source": [
    "# 0으로 된 텐서 생성\n",
    "\n",
    "tf.zeros(2)"
   ]
  },
  {
   "cell_type": "code",
   "execution_count": 8,
   "id": "09897648",
   "metadata": {},
   "outputs": [
    {
     "data": {
      "text/plain": [
       "<bound method _EagerTensorBase.eval of <tf.Tensor: shape=(2,), dtype=float32, numpy=array([0., 0.], dtype=float32)>>"
      ]
     },
     "execution_count": 8,
     "metadata": {},
     "output_type": "execute_result"
    }
   ],
   "source": [
    "# tensorflow는 텐서 그 자체의 값이 아닌 텐서의 참조를 반환한다.\n",
    "# 텐서  값을 반환하려면 tf.Tensor.eval 사용\n",
    "\n",
    "a = tf.zeros(2)\n",
    "a.eval"
   ]
  },
  {
   "cell_type": "code",
   "execution_count": 12,
   "id": "4d492a32",
   "metadata": {},
   "outputs": [
    {
     "data": {
      "text/plain": [
       "<bound method _EagerTensorBase.eval of <tf.Tensor: shape=(2, 3), dtype=float32, numpy=\n",
       "array([[0., 0., 0.],\n",
       "       [0., 0., 0.]], dtype=float32)>>"
      ]
     },
     "execution_count": 12,
     "metadata": {},
     "output_type": "execute_result"
    }
   ],
   "source": [
    "# tf.zeros & tf.ones 이용하여 다양한 크기의 텐서 생성 및 확인\n",
    "\n",
    "a = tf.zeros((2,3))\n",
    "a.eval"
   ]
  },
  {
   "cell_type": "code",
   "execution_count": 11,
   "id": "3c367b3a",
   "metadata": {},
   "outputs": [
    {
     "data": {
      "text/plain": [
       "<bound method _EagerTensorBase.eval of <tf.Tensor: shape=(2, 2, 2), dtype=float32, numpy=\n",
       "array([[[1., 1.],\n",
       "        [1., 1.]],\n",
       "\n",
       "       [[1., 1.],\n",
       "        [1., 1.]]], dtype=float32)>>"
      ]
     },
     "execution_count": 11,
     "metadata": {},
     "output_type": "execute_result"
    }
   ],
   "source": [
    "b = tf.ones((2,2,2))\n",
    "b.eval"
   ]
  },
  {
   "cell_type": "code",
   "execution_count": 13,
   "id": "b4dd0d9b",
   "metadata": {},
   "outputs": [
    {
     "data": {
      "text/plain": [
       "<bound method _EagerTensorBase.eval of <tf.Tensor: shape=(2, 2), dtype=float32, numpy=\n",
       "array([[5., 5.],\n",
       "       [5., 5.]], dtype=float32)>>"
      ]
     },
     "execution_count": 13,
     "metadata": {},
     "output_type": "execute_result"
    }
   ],
   "source": [
    "# 0 or 1 제외한 다른 값으로 텐서를 채우려면 tf.fill() 이용\n",
    "\n",
    "b = tf.fill((2,2),value=5.)\n",
    "b.eval"
   ]
  },
  {
   "cell_type": "code",
   "execution_count": 16,
   "id": "e9386ea6",
   "metadata": {},
   "outputs": [
    {
     "data": {
      "text/plain": [
       "<bound method _EagerTensorBase.eval of <tf.Tensor: shape=(), dtype=int32, numpy=3>>"
      ]
     },
     "execution_count": 16,
     "metadata": {},
     "output_type": "execute_result"
    }
   ],
   "source": [
    "# tf.constant는 tf.fill과 유사한 함수, 프로그램 실행 중에 변경할 수 없는 텐서를 생성\n",
    "\n",
    "a = tf.constant(3)\n",
    "a.eval"
   ]
  },
  {
   "cell_type": "code",
   "execution_count": 29,
   "id": "a02aab6b",
   "metadata": {},
   "outputs": [
    {
     "data": {
      "text/plain": [
       "<bound method _EagerTensorBase.eval of <tf.Tensor: shape=(2, 2), dtype=float32, numpy=\n",
       "array([[ 0.50980496, -0.9425625 ],\n",
       "       [-1.1269273 , -0.94159013]], dtype=float32)>>"
      ]
     },
     "execution_count": 29,
     "metadata": {},
     "output_type": "execute_result"
    }
   ],
   "source": [
    "# 정규분포로 텐서 추출\n",
    "\n",
    "a = tf.random.normal((2,2), mean=0, stddev=1)\n",
    "a.eval"
   ]
  },
  {
   "cell_type": "code",
   "execution_count": 30,
   "id": "29600506",
   "metadata": {},
   "outputs": [
    {
     "data": {
      "text/plain": [
       "<bound method _EagerTensorBase.eval of <tf.Tensor: shape=(2, 2), dtype=float32, numpy=\n",
       "array([[ 0.6179166, -1.3021736],\n",
       "       [-1.6626949,  0.2216425]], dtype=float32)>>"
      ]
     },
     "execution_count": 30,
     "metadata": {},
     "output_type": "execute_result"
    }
   ],
   "source": [
    "# tf.random.normal() 보다는 tf.truncated.normal()을 흔히 사용(절단정규분포)\n",
    "# 평균에서 표준편차의 2 배 이상 나는 값은 모두 제외하고 다시 추출하는 방식\n",
    "# tf.random.uniform() 또한 tf.random.normal()과 유사, 지정한 범위에 걸친 균등분포에서 난수를 추출한다는 점이 다르다.\n",
    "\n",
    "a = tf.random.uniform((2,2),minval=-2, maxval=2)\n",
    "a.eval"
   ]
  },
  {
   "cell_type": "code",
   "execution_count": 31,
   "id": "cf3482e9",
   "metadata": {},
   "outputs": [
    {
     "data": {
      "text/plain": [
       "<bound method _EagerTensorBase.eval of <tf.Tensor: shape=(2, 2), dtype=float32, numpy=\n",
       "array([[2., 2.],\n",
       "       [2., 2.]], dtype=float32)>>"
      ]
     },
     "execution_count": 31,
     "metadata": {},
     "output_type": "execute_result"
    }
   ],
   "source": [
    "# tensorflow는 python 연산자를 오버로딩해 표준 파이썬 연산자를 기본적인 텐서 연산에 사용할 수 있게 만들었다.\n",
    "\n",
    "c = tf.ones((2,2))\n",
    "d = tf.ones((2,2))\n",
    "e = c + d\n",
    "e.eval"
   ]
  },
  {
   "cell_type": "code",
   "execution_count": 32,
   "id": "3c9c9c4a",
   "metadata": {},
   "outputs": [
    {
     "data": {
      "text/plain": [
       "<bound method _EagerTensorBase.eval of <tf.Tensor: shape=(2, 2), dtype=float32, numpy=\n",
       "array([[4., 4.],\n",
       "       [4., 4.]], dtype=float32)>>"
      ]
     },
     "execution_count": 32,
     "metadata": {},
     "output_type": "execute_result"
    }
   ],
   "source": [
    "f = 2 * e\n",
    "f.eval"
   ]
  },
  {
   "cell_type": "code",
   "execution_count": 33,
   "id": "94d38e90",
   "metadata": {},
   "outputs": [
    {
     "data": {
      "text/plain": [
       "<bound method _EagerTensorBase.eval of <tf.Tensor: shape=(2, 2), dtype=float32, numpy=\n",
       "array([[14., 14.],\n",
       "       [14., 14.]], dtype=float32)>>"
      ]
     },
     "execution_count": 33,
     "metadata": {},
     "output_type": "execute_result"
    }
   ],
   "source": [
    "c = tf.fill((2,2),2.)\n",
    "d = tf.fill((2,2),7.)\n",
    "e = c * d\n",
    "e.eval"
   ]
  },
  {
   "cell_type": "code",
   "execution_count": 34,
   "id": "0f5a1f6f",
   "metadata": {},
   "outputs": [
    {
     "data": {
      "text/plain": [
       "<bound method _EagerTensorBase.eval of <tf.Tensor: shape=(4, 4), dtype=float32, numpy=\n",
       "array([[1., 0., 0., 0.],\n",
       "       [0., 1., 0., 0.],\n",
       "       [0., 0., 1., 0.],\n",
       "       [0., 0., 0., 1.]], dtype=float32)>>"
      ]
     },
     "execution_count": 34,
     "metadata": {},
     "output_type": "execute_result"
    }
   ],
   "source": [
    "# tf.eye()를 사용하여 원하는 크기의 단위행렬을 생성할 수 있다.\n",
    "\n",
    "a = tf.eye(4)\n",
    "a.eval"
   ]
  },
  {
   "cell_type": "code",
   "execution_count": 39,
   "id": "36c0e922",
   "metadata": {},
   "outputs": [
    {
     "data": {
      "text/plain": [
       "<bound method _EagerTensorBase.eval of <tf.Tensor: shape=(4,), dtype=int32, numpy=array([1, 2, 3, 4])>>"
      ]
     },
     "execution_count": 39,
     "metadata": {},
     "output_type": "execute_result"
    }
   ],
   "source": [
    "# tf.range(start, limit, delta)\n",
    "# tf.linalg.diag(diagonal)을 이용하여 대각행렬 생성할 수 있다.\n",
    "\n",
    "r = tf.range(1, 5, 1)\n",
    "r.eval"
   ]
  },
  {
   "cell_type": "code",
   "execution_count": 40,
   "id": "0373d878",
   "metadata": {},
   "outputs": [
    {
     "data": {
      "text/plain": [
       "<bound method _EagerTensorBase.eval of <tf.Tensor: shape=(4, 4), dtype=int32, numpy=\n",
       "array([[1, 0, 0, 0],\n",
       "       [0, 2, 0, 0],\n",
       "       [0, 0, 3, 0],\n",
       "       [0, 0, 0, 4]])>>"
      ]
     },
     "execution_count": 40,
     "metadata": {},
     "output_type": "execute_result"
    }
   ],
   "source": [
    "d = tf.linalg.diag(r)\n",
    "d.eval"
   ]
  },
  {
   "cell_type": "code",
   "execution_count": 41,
   "id": "90b09912",
   "metadata": {},
   "outputs": [
    {
     "data": {
      "text/plain": [
       "<bound method _EagerTensorBase.eval of <tf.Tensor: shape=(2, 3), dtype=float32, numpy=\n",
       "array([[1., 1., 1.],\n",
       "       [1., 1., 1.]], dtype=float32)>>"
      ]
     },
     "execution_count": 41,
     "metadata": {},
     "output_type": "execute_result"
    }
   ],
   "source": [
    "# 전치행렬, 행렬을 전치하려면 tf.transpose()로 처리 가능하다.\n",
    "\n",
    "a = tf.ones((2,3))\n",
    "a.eval"
   ]
  },
  {
   "cell_type": "code",
   "execution_count": 43,
   "id": "d33062a4",
   "metadata": {},
   "outputs": [
    {
     "data": {
      "text/plain": [
       "<bound method _EagerTensorBase.eval of <tf.Tensor: shape=(3, 2), dtype=float32, numpy=\n",
       "array([[1., 1.],\n",
       "       [1., 1.],\n",
       "       [1., 1.]], dtype=float32)>>"
      ]
     },
     "execution_count": 43,
     "metadata": {},
     "output_type": "execute_result"
    }
   ],
   "source": [
    "at = tf.transpose(a)\n",
    "at.eval"
   ]
  },
  {
   "cell_type": "code",
   "execution_count": 44,
   "id": "055104e3",
   "metadata": {},
   "outputs": [
    {
     "data": {
      "text/plain": [
       "<bound method _EagerTensorBase.eval of <tf.Tensor: shape=(2, 3), dtype=float32, numpy=\n",
       "array([[1., 1., 1.],\n",
       "       [1., 1., 1.]], dtype=float32)>>"
      ]
     },
     "execution_count": 44,
     "metadata": {},
     "output_type": "execute_result"
    }
   ],
   "source": [
    "# 행렬곱 수행\n",
    "\n",
    "a = tf.ones((2,3))\n",
    "a.eval"
   ]
  },
  {
   "cell_type": "code",
   "execution_count": 45,
   "id": "56de088d",
   "metadata": {},
   "outputs": [
    {
     "data": {
      "text/plain": [
       "<bound method _EagerTensorBase.eval of <tf.Tensor: shape=(3, 4), dtype=float32, numpy=\n",
       "array([[1., 1., 1., 1.],\n",
       "       [1., 1., 1., 1.],\n",
       "       [1., 1., 1., 1.]], dtype=float32)>>"
      ]
     },
     "execution_count": 45,
     "metadata": {},
     "output_type": "execute_result"
    }
   ],
   "source": [
    "b = tf.ones((3,4))\n",
    "b.eval"
   ]
  },
  {
   "cell_type": "code",
   "execution_count": 46,
   "id": "8a007e3b",
   "metadata": {},
   "outputs": [
    {
     "data": {
      "text/plain": [
       "<bound method _EagerTensorBase.eval of <tf.Tensor: shape=(2, 4), dtype=float32, numpy=\n",
       "array([[3., 3., 3., 3.],\n",
       "       [3., 3., 3., 3.]], dtype=float32)>>"
      ]
     },
     "execution_count": 46,
     "metadata": {},
     "output_type": "execute_result"
    }
   ],
   "source": [
    "c = tf.matmul(a,b)\n",
    "c.eval"
   ]
  },
  {
   "cell_type": "code",
   "execution_count": 50,
   "id": "8e7583bf",
   "metadata": {},
   "outputs": [
    {
     "data": {
      "text/plain": [
       "<bound method _EagerTensorBase.eval of <tf.Tensor: shape=(2, 2), dtype=int32, numpy=\n",
       "array([[1, 1],\n",
       "       [1, 1]])>>"
      ]
     },
     "execution_count": 50,
     "metadata": {},
     "output_type": "execute_result"
    }
   ],
   "source": [
    "# 다양한 형의 텐서 생성\n",
    "\n",
    "a = tf.ones((2,2), dtype=tf.int32)\n",
    "a.eval"
   ]
  },
  {
   "cell_type": "code",
   "execution_count": 54,
   "id": "4993b848",
   "metadata": {},
   "outputs": [
    {
     "data": {
      "text/plain": [
       "<bound method _EagerTensorBase.eval of <tf.Tensor: shape=(2, 2), dtype=float32, numpy=\n",
       "array([[1., 1.],\n",
       "       [1., 1.]], dtype=float32)>>"
      ]
     },
     "execution_count": 54,
     "metadata": {},
     "output_type": "execute_result"
    }
   ],
   "source": [
    "b = tf.cast(a, tf.float32)\n",
    "b.eval"
   ]
  },
  {
   "cell_type": "code",
   "execution_count": 55,
   "id": "c492718a",
   "metadata": {},
   "outputs": [
    {
     "data": {
      "text/plain": [
       "<bound method _EagerTensorBase.eval of <tf.Tensor: shape=(8,), dtype=float32, numpy=array([1., 1., 1., 1., 1., 1., 1., 1.], dtype=float32)>>"
      ]
     },
     "execution_count": 55,
     "metadata": {},
     "output_type": "execute_result"
    }
   ],
   "source": [
    "# 텐서 형상 조작\n",
    "\n",
    "a = tf.ones(8)\n",
    "a.eval"
   ]
  },
  {
   "cell_type": "code",
   "execution_count": 56,
   "id": "4113a913",
   "metadata": {},
   "outputs": [
    {
     "data": {
      "text/plain": [
       "<bound method _EagerTensorBase.eval of <tf.Tensor: shape=(4, 2), dtype=float32, numpy=\n",
       "array([[1., 1.],\n",
       "       [1., 1.],\n",
       "       [1., 1.],\n",
       "       [1., 1.]], dtype=float32)>>"
      ]
     },
     "execution_count": 56,
     "metadata": {},
     "output_type": "execute_result"
    }
   ],
   "source": [
    "b = tf.reshape(a, (4,2))\n",
    "b.eval"
   ]
  },
  {
   "cell_type": "code",
   "execution_count": 57,
   "id": "3ea50023",
   "metadata": {},
   "outputs": [
    {
     "data": {
      "text/plain": [
       "<bound method _EagerTensorBase.eval of <tf.Tensor: shape=(2, 2, 2), dtype=float32, numpy=\n",
       "array([[[1., 1.],\n",
       "        [1., 1.]],\n",
       "\n",
       "       [[1., 1.],\n",
       "        [1., 1.]]], dtype=float32)>>"
      ]
     },
     "execution_count": 57,
     "metadata": {},
     "output_type": "execute_result"
    }
   ],
   "source": [
    "c = tf.reshape(a, (2,2,2))\n",
    "c.eval"
   ]
  },
  {
   "cell_type": "code",
   "execution_count": 62,
   "id": "413e3d32",
   "metadata": {},
   "outputs": [
    {
     "data": {
      "text/plain": [
       "TensorShape([2])"
      ]
     },
     "execution_count": 62,
     "metadata": {},
     "output_type": "execute_result"
    }
   ],
   "source": [
    "a = tf.ones(2)\n",
    "a.get_shape()"
   ]
  },
  {
   "cell_type": "code",
   "execution_count": 63,
   "id": "4e65b5ef",
   "metadata": {},
   "outputs": [
    {
     "data": {
      "text/plain": [
       "<bound method _EagerTensorBase.eval of <tf.Tensor: shape=(2,), dtype=float32, numpy=array([1., 1.], dtype=float32)>>"
      ]
     },
     "execution_count": 63,
     "metadata": {},
     "output_type": "execute_result"
    }
   ],
   "source": [
    "a.eval"
   ]
  },
  {
   "cell_type": "code",
   "execution_count": 65,
   "id": "f9aef95b",
   "metadata": {},
   "outputs": [
    {
     "data": {
      "text/plain": [
       "TensorShape([1, 2])"
      ]
     },
     "execution_count": 65,
     "metadata": {},
     "output_type": "execute_result"
    }
   ],
   "source": [
    "b = tf.expand_dims(a, 0)\n",
    "b.get_shape()"
   ]
  },
  {
   "cell_type": "code",
   "execution_count": 66,
   "id": "0459ac26",
   "metadata": {},
   "outputs": [
    {
     "data": {
      "text/plain": [
       "<bound method _EagerTensorBase.eval of <tf.Tensor: shape=(1, 2), dtype=float32, numpy=array([[1., 1.]], dtype=float32)>>"
      ]
     },
     "execution_count": 66,
     "metadata": {},
     "output_type": "execute_result"
    }
   ],
   "source": [
    "b.eval"
   ]
  },
  {
   "cell_type": "code",
   "execution_count": 67,
   "id": "4cff0d04",
   "metadata": {},
   "outputs": [
    {
     "data": {
      "text/plain": [
       "TensorShape([2, 1])"
      ]
     },
     "execution_count": 67,
     "metadata": {},
     "output_type": "execute_result"
    }
   ],
   "source": [
    "c = tf.expand_dims(a, 1)\n",
    "c.get_shape()"
   ]
  },
  {
   "cell_type": "code",
   "execution_count": 68,
   "id": "27d0471f",
   "metadata": {},
   "outputs": [
    {
     "data": {
      "text/plain": [
       "<bound method _EagerTensorBase.eval of <tf.Tensor: shape=(2, 1), dtype=float32, numpy=\n",
       "array([[1.],\n",
       "       [1.]], dtype=float32)>>"
      ]
     },
     "execution_count": 68,
     "metadata": {},
     "output_type": "execute_result"
    }
   ],
   "source": [
    "c.eval"
   ]
  },
  {
   "cell_type": "code",
   "execution_count": 69,
   "id": "5c09d72e",
   "metadata": {},
   "outputs": [
    {
     "data": {
      "text/plain": [
       "TensorShape([2])"
      ]
     },
     "execution_count": 69,
     "metadata": {},
     "output_type": "execute_result"
    }
   ],
   "source": [
    "d = tf.squeeze(b)\n",
    "d.get_shape()"
   ]
  },
  {
   "cell_type": "code",
   "execution_count": 70,
   "id": "828ff83a",
   "metadata": {},
   "outputs": [
    {
     "data": {
      "text/plain": [
       "<bound method _EagerTensorBase.eval of <tf.Tensor: shape=(2,), dtype=float32, numpy=array([1., 1.], dtype=float32)>>"
      ]
     },
     "execution_count": 70,
     "metadata": {},
     "output_type": "execute_result"
    }
   ],
   "source": [
    "d.eval"
   ]
  },
  {
   "cell_type": "code",
   "execution_count": 71,
   "id": "789e4b94",
   "metadata": {},
   "outputs": [
    {
     "data": {
      "text/plain": [
       "<bound method _EagerTensorBase.eval of <tf.Tensor: shape=(2, 2), dtype=float32, numpy=\n",
       "array([[1., 1.],\n",
       "       [1., 1.]], dtype=float32)>>"
      ]
     },
     "execution_count": 71,
     "metadata": {},
     "output_type": "execute_result"
    }
   ],
   "source": [
    "# 브로드캐스팅(broadcastiong)은 텐서 시스템에서 행렬과 다른 크기의 벡터를 서로 더할 때 쓰이는 용어이다.\n",
    "\n",
    "a = tf.ones((2,2))\n",
    "a.eval"
   ]
  },
  {
   "cell_type": "code",
   "execution_count": 72,
   "id": "87bd2d5a",
   "metadata": {},
   "outputs": [
    {
     "data": {
      "text/plain": [
       "<bound method _EagerTensorBase.eval of <tf.Tensor: shape=(2,), dtype=float32, numpy=array([0., 1.], dtype=float32)>>"
      ]
     },
     "execution_count": 72,
     "metadata": {},
     "output_type": "execute_result"
    }
   ],
   "source": [
    "b = tf.range(0,2,1, dtype=tf.float32)\n",
    "b.eval"
   ]
  },
  {
   "cell_type": "code",
   "execution_count": 73,
   "id": "8823824c",
   "metadata": {},
   "outputs": [
    {
     "data": {
      "text/plain": [
       "<bound method _EagerTensorBase.eval of <tf.Tensor: shape=(2, 2), dtype=float32, numpy=\n",
       "array([[1., 2.],\n",
       "       [1., 2.]], dtype=float32)>>"
      ]
     },
     "execution_count": 73,
     "metadata": {},
     "output_type": "execute_result"
    }
   ],
   "source": [
    "c = a + b\n",
    "c.eval"
   ]
  }
 ],
 "metadata": {
  "kernelspec": {
   "display_name": "Python 3 (ipykernel)",
   "language": "python",
   "name": "python3"
  },
  "language_info": {
   "codemirror_mode": {
    "name": "ipython",
    "version": 3
   },
   "file_extension": ".py",
   "mimetype": "text/x-python",
   "name": "python",
   "nbconvert_exporter": "python",
   "pygments_lexer": "ipython3",
   "version": "3.9.7"
  }
 },
 "nbformat": 4,
 "nbformat_minor": 5
}
