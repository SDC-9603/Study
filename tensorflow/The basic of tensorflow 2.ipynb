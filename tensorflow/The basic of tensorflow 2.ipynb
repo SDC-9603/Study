{
 "cells": [
  {
   "cell_type": "markdown",
   "id": "40c96f38",
   "metadata": {},
   "source": [
    "토이 회귀 데이터셋 만들기\n",
    "\n",
    "선형회귀 linear regression의 가장 단순한 형태는 1차원 선에 대한 매개변수를 학습하는 것임\n",
    "데이터 포인트 x가 1차원이라고 가정, 그다음 실젯값 레이블 y는 선형 규칙에 의해 생성된다고 가정\n",
    "\n",
    "y = wx + b\n",
    "\n",
    "w, b는 경사 하강법에 따른 데이터에서 추정되어야 하는 학습 가능한 매개변수\n",
    "\n",
    "소량의 가우스 잡음으로 인해 교란된 선에 대한 방정식\n",
    "\n",
    "y = wx + b + N(0,e)\n",
    "\n",
    "평균 mean과 표준편차 standard deviation을 가진 가우스는 N(mean, standard deviation)으로 표기함"
   ]
  },
  {
   "cell_type": "code",
   "execution_count": 1,
   "id": "4d3d7ffb",
   "metadata": {},
   "outputs": [],
   "source": [
    "import numpy as np"
   ]
  },
  {
   "cell_type": "code",
   "execution_count": 3,
   "id": "db8ad024",
   "metadata": {},
   "outputs": [],
   "source": [
    "N = 100 \n",
    "w_true = 5\n",
    "b_true = 2\n",
    "noise_scale = .1\n",
    "x_np = np.random.rand(N, 1)\n",
    "noise = np.random.normal(scale=noise_scale, size=(N,1))\n",
    "y_np = np.reshape(w_true * x_np + b_true + noise, (-1))"
   ]
  },
  {
   "cell_type": "code",
   "execution_count": 4,
   "id": "dd4e1793",
   "metadata": {},
   "outputs": [],
   "source": [
    "import seaborn as sns"
   ]
  },
  {
   "cell_type": "code",
   "execution_count": 6,
   "id": "1b08156c",
   "metadata": {},
   "outputs": [
    {
     "data": {
      "image/png": "[encoded data removed]",
      "text/plain": [
       "<Figure size 432x288 with 1 Axes>"
      ]
     },
     "metadata": {
      "needs_background": "light"
     },
     "output_type": "display_data"
    }
   ],
   "source": [
    "sns.regplot(x= x_np, y=y_np);"
   ]
  },
  {
   "cell_type": "code",
   "execution_count": 18,
   "id": "56d05feb",
   "metadata": {},
   "outputs": [],
   "source": [
    "import tensorflow as tf\n",
    "tf.compat.v1.disable_eager_execution() #tensorflow version 1 호환 문제 해결 코드"
   ]
  },
  {
   "cell_type": "code",
   "execution_count": 19,
   "id": "61fbdcc6",
   "metadata": {},
   "outputs": [
    {
     "data": {
      "text/plain": [
       "<tf.Tensor 'Placeholder:0' shape=(2, 2) dtype=float32>"
      ]
     },
     "execution_count": 19,
     "metadata": {},
     "output_type": "execute_result"
    }
   ],
   "source": [
    "# 플레이스홀더 placeholder는 텐서플로 계산 그래프에 정보를 입력하는 방법\n",
    "\n",
    "tf.compat.v1.placeholder(tf.float32, shape=(2,2))"
   ]
  },
  {
   "cell_type": "code",
   "execution_count": 22,
   "id": "0f3d47e3",
   "metadata": {},
   "outputs": [
    {
     "name": "stdout",
     "output_type": "stream",
     "text": [
      "[3.]\n"
     ]
    }
   ],
   "source": [
    "# 피드 딕셔너리와 페치\n",
    "# sess.run(var)를 사용하여 텐서플로에서 텐서를 평가할 수 있음\n",
    "# 텐서플로 계산에서 플레이스홀더에 값은 피드 딕셔너리 feed dictionary를 만들어 넣음\n",
    "\n",
    "a = tf.compat.v1.placeholder(tf.float32, shape=(1,))\n",
    "b = tf.compat.v1.placeholder(tf.float32, shape=(1,))\n",
    "c = a + b\n",
    "with tf.compat.v1.Session() as sess:\n",
    "    c_eval = sess.run(c, {a: [1.], b: [2.]})\n",
    "    print(c_eval);"
   ]
  },
  {
   "cell_type": "code",
   "execution_count": 26,
   "id": "230f679c",
   "metadata": {},
   "outputs": [
    {
     "data": {
      "text/plain": [
       "<tf.Tensor 'placeholder_10/Placeholder:0' shape=(5, 1) dtype=float32>"
      ]
     },
     "execution_count": 26,
     "metadata": {},
     "output_type": "execute_result"
    }
   ],
   "source": [
    "# 네임 스코프\n",
    "# 복잡한 텐서플로 프로그램에는 전체에 걸쳐 정의된 수많은 텐서, 변수, 플레이스홀더가 있음\n",
    "# tf.name_scope(name)은 이러한 변수를 관리하기 위한 간단한 범위 지정 메커니즘을 제공\n",
    "\n",
    "N = 5\n",
    "with tf.name_scope('placeholder'):\n",
    "    x = tf.compat.v1.placeholder(tf.float32, (N,1))\n",
    "    y = tf.compat.v1.placeholder(tf.float32, (N,))\n",
    "    \n",
    "x"
   ]
  },
  {
   "cell_type": "code",
   "execution_count": null,
   "id": "90bc5ee0",
   "metadata": {},
   "outputs": [],
   "source": [
    "# 옵티마이저\n",
    "# tf.train 모듈에서 최적화 알고리즘 컬렉션을 제공\n",
    "# tensorflow 연산 그래프에 Adam 옵티마이저 추가하기\n",
    "\n",
    "learning_rate = .001\n",
    "with tf.name_scope(\"optim\"):\n",
    "    train_op = tf.compat.v1.train.AdamOptimizer(learning_rate).minimize(l) # l은 손실"
   ]
  },
  {
   "cell_type": "code",
   "execution_count": 30,
   "id": "855c45a7",
   "metadata": {},
   "outputs": [
    {
     "data": {
      "text/plain": [
       "[None]"
      ]
     },
     "execution_count": 30,
     "metadata": {},
     "output_type": "execute_result"
    }
   ],
   "source": [
    "# tensorflow 기울기 구하기\n",
    "# debugging과 같은 목적으로 기울기 값을 직접 확인할 때, tf.gradients를 사용함\n",
    "\n",
    "W = tf.Variable((3,))\n",
    "l = tf.reduce_sum(W)\n",
    "gradW = tf.gradients(l, W)\n",
    "gradW\n",
    "\n",
    "# 위 코드는 학습 가능한 매개변수 tf.Variable W에 대한 손실 l의 기울기를 기호로 표시"
   ]
  },
  {
   "cell_type": "code",
   "execution_count": null,
   "id": "bcf16447",
   "metadata": {},
   "outputs": [],
   "source": [
    "# 텐서보드를 위한 파일 쓰기와 요약\n",
    "# 텐서 프로그램의 구조에 대한 시각적 이해를 얻는 것은 매우 유용, 텐서보드 패키지를 제공\n",
    "\n",
    "# 손실을 위한 요약 합치기\n",
    "\n",
    "with tf.name_scope('summaries'):\n",
    "    tf.summary.scalar('loss', l)\n",
    "    merged = tf.compat.v1.summary.merge_all()\n",
    "    \n",
    "train_writer = tf.compat.v1.summary.FileWriter('/tmt/lr-train', tf.compat.v1.get_default_graph())"
   ]
  },
  {
   "cell_type": "code",
   "execution_count": null,
   "id": "8bb29902",
   "metadata": {},
   "outputs": [],
   "source": []
  }
 ],
 "metadata": {
  "kernelspec": {
   "display_name": "Python 3 (ipykernel)",
   "language": "python",
   "name": "python3"
  },
  "language_info": {
   "codemirror_mode": {
    "name": "ipython",
    "version": 3
   },
   "file_extension": ".py",
   "mimetype": "text/x-python",
   "name": "python",
   "nbconvert_exporter": "python",
   "pygments_lexer": "ipython3",
   "version": "3.9.7"
  }
 },
 "nbformat": 4,
 "nbformat_minor": 5
}
