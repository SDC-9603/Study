{
 "cells": [
  {
   "cell_type": "code",
   "execution_count": null,
   "metadata": {},
   "outputs": [],
   "source": [
    "#1010\n",
    "\n",
    "import math\n",
    "\n",
    "t = int(input())\n",
    "\n",
    "for i in range(t):\n",
    "    a, b = map(int,(input().split()))\n",
    "\n",
    "    print(math.factorial(b) // (math.factorial(a) * math.factorial(b-a)))"
   ]
  },
  {
   "cell_type": "code",
   "execution_count": null,
   "metadata": {},
   "outputs": [],
   "source": [
    "#1037\n",
    "\n",
    "t = int(input())\n",
    "a = list(map(int, input().split()))\n",
    "\n",
    "print(min(a) * max(a))"
   ]
  },
  {
   "cell_type": "code",
   "execution_count": null,
   "metadata": {},
   "outputs": [],
   "source": [
    "#3046\n",
    "\n",
    "R1, S = map(int, input().split())\n",
    "\n",
    "print(2*S - R1)"
   ]
  },
  {
   "cell_type": "code",
   "execution_count": null,
   "metadata": {},
   "outputs": [],
   "source": [
    "#1541\n",
    "\n",
    "n = input().split('-')\n",
    "list= []\n",
    "\n",
    "for i in n:\n",
    "    temp = 0\n",
    "    x = i.split('+')\n",
    "    for j in x:\n",
    "        temp += int(j)\n",
    "    list.append(temp)\n",
    "y = list[0]\n",
    "\n",
    "for i in range(1, len(list)):\n",
    "    y -= list[i]\n",
    "\n",
    "print(y)"
   ]
  },
  {
   "cell_type": "code",
   "execution_count": null,
   "metadata": {},
   "outputs": [],
   "source": [
    "#1011\n",
    "\n",
    "t = int(input())\n",
    "list = [1]\n",
    "c = 0\n",
    "for i in range(t):\n",
    "    a, b = map(int, input().split())\n",
    "    c += list[0] + i\n",
    "    list.append(c)\n",
    "    for j in list:\n",
    "        if j >= b-a:\n",
    "            print(j)\n",
    "    "
   ]
  },
  {
   "cell_type": "code",
   "execution_count": null,
   "metadata": {},
   "outputs": [],
   "source": [
    "#1011\n",
    "\n",
    "t = int(input())\n",
    "\n",
    "for i in range(t):\n",
    "    a, b = map(int, input().split())\n",
    "    c = b - a\n",
    "    n = 0\n",
    "\n",
    "    while True:\n",
    "        if c <= n*(n+1):\n",
    "            break\n",
    "        n += 1\n",
    "    if c <= n**2:\n",
    "        print(n*2-1)\n",
    "        \n",
    "    else:\n",
    "        print(n*2)"
   ]
  },
  {
   "cell_type": "code",
   "execution_count": null,
   "metadata": {},
   "outputs": [],
   "source": [
    "#10953\n",
    "\n",
    "t = int(input())\n",
    "list = []\n",
    "\n",
    "for i in range(t):\n",
    "    a = input().split(',')\n",
    "    b = int(a[0]) + int(a[1])\n",
    "\n",
    "    print(b)"
   ]
  }
 ],
 "metadata": {
  "kernelspec": {
   "display_name": "Python 3.9.7 ('base')",
   "language": "python",
   "name": "python3"
  },
  "language_info": {
   "codemirror_mode": {
    "name": "ipython",
    "version": 3
   },
   "file_extension": ".py",
   "mimetype": "text/x-python",
   "name": "python",
   "nbconvert_exporter": "python",
   "pygments_lexer": "ipython3",
   "version": "3.9.7"
  },
  "orig_nbformat": 4,
  "vscode": {
   "interpreter": {
    "hash": "a3c188ba27af5f5512833ef10545bceafaf860d3a8c3b701ad4ada0313586957"
   }
  }
 },
 "nbformat": 4,
 "nbformat_minor": 2
}
