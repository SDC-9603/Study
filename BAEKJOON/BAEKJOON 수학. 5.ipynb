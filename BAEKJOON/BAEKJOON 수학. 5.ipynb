{
 "cells": [
  {
   "cell_type": "code",
   "execution_count": null,
   "metadata": {},
   "outputs": [],
   "source": [
    "#1026\n",
    "\n",
    "t = int(input())\n",
    "a = list(map(int, input().split()))\n",
    "b = list(map(int, input().split()))"
   ]
  }
 ],
 "metadata": {
  "kernelspec": {
   "display_name": "Python 3.9.7 ('base')",
   "language": "python",
   "name": "python3"
  },
  "language_info": {
   "codemirror_mode": {
    "name": "ipython",
    "version": 3
   },
   "file_extension": ".py",
   "mimetype": "text/x-python",
   "name": "python",
   "nbconvert_exporter": "python",
   "pygments_lexer": "ipython3",
   "version": "3.9.7"
  },
  "orig_nbformat": 4,
  "vscode": {
   "interpreter": {
    "hash": "a3c188ba27af5f5512833ef10545bceafaf860d3a8c3b701ad4ada0313586957"
   }
  }
 },
 "nbformat": 4,
 "nbformat_minor": 2
}
