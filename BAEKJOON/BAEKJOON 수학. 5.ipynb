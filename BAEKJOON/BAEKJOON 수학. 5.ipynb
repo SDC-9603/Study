{
 "cells": [
  {
   "cell_type": "code",
   "execution_count": null,
   "metadata": {},
   "outputs": [],
   "source": [
    "#1026\n",
    "\n",
    "t = int(input())\n",
    "\n",
    "a = list(map(int, input().split()))\n",
    "b = list(map(int, input().split()))\n",
    "\n",
    "S = 0\n",
    "for i in range(t):\n",
    "    S += min(a) * max(b)\n",
    "    a.pop(a.index(min(a)))\n",
    "    b.pop(b.index(max(b)))\n",
    "\n",
    "print(S)"
   ]
  },
  {
   "cell_type": "code",
   "execution_count": null,
   "metadata": {},
   "outputs": [],
   "source": [
    "#2747\n",
    "\n",
    "a = int(input())\n",
    "fibonacci = [0, 1]\n",
    "for i in range(2, a+1):\n",
    "    num = fibonacci[i-1] + fibonacci[i-2]\n",
    "    fibonacci.append(num)\n",
    "print(fibonacci[a])"
   ]
  },
  {
   "cell_type": "code",
   "execution_count": null,
   "metadata": {},
   "outputs": [],
   "source": [
    "#5543\n",
    "\n",
    "burger = [int(input()) for i in range(3)]\n",
    "beverage = [int(input()) for i in range(2)]\n",
    "\n",
    "print(min(burger) + min(beverage) - 50)"
   ]
  },
  {
   "cell_type": "code",
   "execution_count": null,
   "metadata": {},
   "outputs": [],
   "source": [
    "#11050\n",
    "import math\n",
    "\n",
    "a, b = map(int, input().split())\n",
    "\n",
    "c = math.factorial(a) // (math.factorial(b) * math.factorial(a - b))\n",
    "\n",
    "print(c)"
   ]
  }
 ],
 "metadata": {
  "kernelspec": {
   "display_name": "Python 3.9.7 ('base')",
   "language": "python",
   "name": "python3"
  },
  "language_info": {
   "codemirror_mode": {
    "name": "ipython",
    "version": 3
   },
   "file_extension": ".py",
   "mimetype": "text/x-python",
   "name": "python",
   "nbconvert_exporter": "python",
   "pygments_lexer": "ipython3",
   "version": "3.9.7"
  },
  "orig_nbformat": 4,
  "vscode": {
   "interpreter": {
    "hash": "a3c188ba27af5f5512833ef10545bceafaf860d3a8c3b701ad4ada0313586957"
   }
  }
 },
 "nbformat": 4,
 "nbformat_minor": 2
}
