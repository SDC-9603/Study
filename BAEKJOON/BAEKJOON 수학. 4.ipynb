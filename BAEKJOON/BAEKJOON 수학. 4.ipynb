{
 "cells": [
  {
   "cell_type": "code",
   "execution_count": null,
   "metadata": {},
   "outputs": [],
   "source": [
    "#2475\n",
    "\n",
    "a = list(map(int, input().split()))\n",
    "b = 0\n",
    "for i in range(len(a)):\n",
    "    b += (a[i])**2\n",
    "\n",
    "print((b%10))"
   ]
  },
  {
   "cell_type": "code",
   "execution_count": null,
   "metadata": {},
   "outputs": [],
   "source": [
    "#9461\n",
    "\n",
    "a = [0 for i in range(101)]\n",
    "a[1] = 1\n",
    "a[2] = 1\n",
    "a[3] = 1\n",
    "\n",
    "for i in range(4, 101):\n",
    "    a[i] = a[i-3] + a[i-2]\n",
    "\n",
    "t = int(input())\n",
    "for i in range(t):\n",
    "    n = int(input())\n",
    "    print(a[n])"
   ]
  },
  {
   "cell_type": "code",
   "execution_count": null,
   "metadata": {},
   "outputs": [],
   "source": [
    "#2748\n",
    "\n",
    "a = int(input())\n",
    "fibonacci = [0, 1]\n",
    "\n",
    "for i in range(2, a+1):\n",
    "    num = fibonacci[i-1] + fibonacci[i-2]\n",
    "    fibonacci.append(num)\n",
    "print(fibonacci[a])"
   ]
  },
  {
   "cell_type": "code",
   "execution_count": null,
   "metadata": {},
   "outputs": [],
   "source": [
    "#4948\n",
    "#시간초과\n",
    "\n",
    "\n",
    "import math\n",
    "\n",
    "while True:\n",
    "    a = int(input())\n",
    "    if a == 0:\n",
    "        break\n",
    "\n",
    "    if a ==1:\n",
    "        print(1)\n",
    "        continue\n",
    "    sosu = [i for i in range(a+1, 2*a+1)]\n",
    "    error = []\n",
    "    for i in range(a+1, 2*a+1):\n",
    "        if a > 1:\n",
    "            for j in range(2, int(math.sqrt(2*a+1))):\n",
    "                if i%j == 0:\n",
    "                    error.append(i)\n",
    "    b = list(set(sosu) - set(error))\n",
    "    print(len(b))"
   ]
  },
  {
   "cell_type": "code",
   "execution_count": null,
   "metadata": {},
   "outputs": [],
   "source": [
    "#4948\n",
    "\n",
    "def sosu(n):\n",
    "    if n == 1:\n",
    "        return False\n",
    "    for i in range(2, int(n**0.5)+1):\n",
    "        if n%i==0:\n",
    "            return False\n",
    "    return True\n",
    "\n",
    "a = list(range(2, 246912))\n",
    "b = []\n",
    "\n",
    "for i in a:\n",
    "    if sosu(i):\n",
    "        b.append(i)\n",
    "\n",
    "n = int(input())\n",
    "\n",
    "while True:\n",
    "    count = 0\n",
    "    if n == 0:\n",
    "        break\n",
    "    for i in b:\n",
    "        if n < i <=2*n:\n",
    "            count += 1\n",
    "    print(count)\n",
    "    n = int(input())"
   ]
  },
  {
   "cell_type": "code",
   "execution_count": null,
   "metadata": {},
   "outputs": [],
   "source": [
    "#1934\n",
    "\n",
    "import math\n",
    "\n",
    "t = int(input())\n",
    "for i in range(t):\n",
    "    a, b = map(int, input().split())\n",
    "    print(math.lcm(a, b))"
   ]
  }
 ],
 "metadata": {
  "kernelspec": {
   "display_name": "Python 3.9.7 ('base')",
   "language": "python",
   "name": "python3"
  },
  "language_info": {
   "codemirror_mode": {
    "name": "ipython",
    "version": 3
   },
   "file_extension": ".py",
   "mimetype": "text/x-python",
   "name": "python",
   "nbconvert_exporter": "python",
   "pygments_lexer": "ipython3",
   "version": "3.9.7"
  },
  "orig_nbformat": 4,
  "vscode": {
   "interpreter": {
    "hash": "a3c188ba27af5f5512833ef10545bceafaf860d3a8c3b701ad4ada0313586957"
   }
  }
 },
 "nbformat": 4,
 "nbformat_minor": 2
}
