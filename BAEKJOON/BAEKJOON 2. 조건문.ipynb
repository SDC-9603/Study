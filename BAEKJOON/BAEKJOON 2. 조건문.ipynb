{
 "cells": [
  {
   "cell_type": "code",
   "execution_count": null,
   "id": "84cd2948",
   "metadata": {},
   "outputs": [],
   "source": [
    "#1330\n",
    "\n",
    "a, b = map(int, input().split())\n",
    "\n",
    "if a > b:\n",
    "    print('>')\n",
    "elif a < b:\n",
    "    print('<')\n",
    "else:\n",
    "    print('==')"
   ]
  },
  {
   "cell_type": "code",
   "execution_count": null,
   "id": "ab93569f",
   "metadata": {},
   "outputs": [],
   "source": [
    "#9498\n",
    "\n",
    "a = int(input())\n",
    "\n",
    "if a >= 90:\n",
    "    print(\"A\")\n",
    "elif a >= 80:\n",
    "    print(\"B\")\n",
    "elif a >= 70:\n",
    "    print(\"C\")\n",
    "elif a >= 60:\n",
    "    print(\"D\")\n",
    "else:\n",
    "    print(\"F\")"
   ]
  },
  {
   "cell_type": "code",
   "execution_count": null,
   "id": "a5c706ec",
   "metadata": {},
   "outputs": [],
   "source": [
    "#2753\n",
    "\n",
    "a = int(input())\n",
    "if (a%4 == 0 and a%100 != 0) or a%400 ==0:\n",
    "    print('1')\n",
    "else:\n",
    "    print('0')"
   ]
  },
  {
   "cell_type": "code",
   "execution_count": null,
   "id": "f73af9fb",
   "metadata": {},
   "outputs": [],
   "source": [
    "#14681\n",
    "\n",
    "a = int(input())\n",
    "b = int(input())\n",
    "\n",
    "if a>0 and b>0:\n",
    "    print(1)\n",
    "elif a<0 and b>0:\n",
    "    print(2)\n",
    "elif a<0 and b<0:\n",
    "    print(3)\n",
    "else:\n",
    "    print(4)"
   ]
  },
  {
   "cell_type": "code",
   "execution_count": null,
   "id": "950f54c4",
   "metadata": {},
   "outputs": [],
   "source": [
    "#2884\n",
    "\n",
    "a, b = map(int, input().split())\n",
    "\n",
    "if b > 44:\n",
    "    print(a, b-45);\n",
    "elif b < 45 and a > 0:\n",
    "    print(a-1, b+15)\n",
    "else:\n",
    "    print(23, b+15)"
   ]
  },
  {
   "cell_type": "code",
   "execution_count": null,
   "id": "e64b3cdb",
   "metadata": {},
   "outputs": [],
   "source": [
    "#2525\n",
    "\n",
    "a,b = map(int, input().split())\n",
    "c = int(input())\n",
    "\n",
    "a += c // 60\n",
    "b += c % 60\n",
    "\n",
    "if b >= 60:\n",
    "    a += 1\n",
    "    b -= 60\n",
    "if a >= 24:\n",
    "    a -= 24\n",
    "print(a, b)"
   ]
  },
  {
   "cell_type": "code",
   "execution_count": null,
   "id": "706277a8",
   "metadata": {},
   "outputs": [],
   "source": [
    "#2480\n",
    "\n",
    "a,b,c = map(int, input().split())\n",
    "\n",
    "if a==b==c:\n",
    "    print(10000+a*1000)\n",
    "elif a==b:\n",
    "    print(1000+a*100)\n",
    "elif a==c:\n",
    "    print(1000+a*100)\n",
    "elif b==c:\n",
    "    print(1000+b*100)\n",
    "else:\n",
    "    print(100 * max(a,b,c))"
   ]
  }
 ],
 "metadata": {
  "kernelspec": {
   "display_name": "Python 3 (ipykernel)",
   "language": "python",
   "name": "python3"
  },
  "language_info": {
   "codemirror_mode": {
    "name": "ipython",
    "version": 3
   },
   "file_extension": ".py",
   "mimetype": "text/x-python",
   "name": "python",
   "nbconvert_exporter": "python",
   "pygments_lexer": "ipython3",
   "version": "3.9.7"
  }
 },
 "nbformat": 4,
 "nbformat_minor": 5
}
