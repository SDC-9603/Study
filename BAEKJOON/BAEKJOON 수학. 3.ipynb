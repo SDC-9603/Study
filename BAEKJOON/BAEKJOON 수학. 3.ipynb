{
 "cells": [
  {
   "cell_type": "code",
   "execution_count": null,
   "metadata": {},
   "outputs": [],
   "source": [
    "#1924\n",
    "\n",
    "a, b = map(int, input().split())\n",
    "\n",
    "Day = 0\n",
    "month = [31, 28, 31, 30,31, 30, 31, 31, 30, 31, 30, 31]\n",
    "week = [\"SUN\", \"MON\", \"TUE\", \"WED\", \"THU\", \"FRI\", \"SAT\"]\n",
    "\n",
    "for i in range(a-1):\n",
    "    Day += month[i]\n",
    "\n",
    "Day = (Day + b) % 7\n",
    "\n",
    "print(week[Day])"
   ]
  },
  {
   "cell_type": "code",
   "execution_count": null,
   "metadata": {},
   "outputs": [],
   "source": [
    "#11653\n",
    "\n",
    "N = int(input())\n",
    "m = 2\n",
    "while N != 1:\n",
    "    if N % m == 0:\n",
    "        print(m)\n",
    "        N = N//m\n",
    "    else:\n",
    "        m += 1"
   ]
  },
  {
   "cell_type": "code",
   "execution_count": null,
   "metadata": {},
   "outputs": [],
   "source": [
    "#10757\n",
    "\n",
    "a, b = map(int, input().split())\n",
    "\n",
    "print(a + b)"
   ]
  },
  {
   "cell_type": "code",
   "execution_count": null,
   "metadata": {},
   "outputs": [],
   "source": [
    "#1002\n",
    "\n",
    "import math\n",
    "\n",
    "n = int(input())\n",
    "\n",
    "for _ in range(n):\n",
    "    x1, y1, r1, x2, y2, r2 = map(int, input().split())\n",
    "    distance = math.sqrt((x1-x2)**2 + (y1-y2)**2)  # 두 원의 거리 (원의방정식활용)\n",
    "    if distance == 0 and r1 == r2 :  # 두 원이 동심원이고 반지름이 같을 때\n",
    "        print(-1)\n",
    "    elif abs(r1-r2) == distance or r1 + r2 == distance:  # 내접, 외접일 때\n",
    "        print(1)\n",
    "    elif abs(r1-r2) < distance < (r1+r2) :  # 두 원이 서로다른 두 점에서 만날 때\n",
    "        print(2)\n",
    "    else:\n",
    "        print(0)  # 그 외에\n"
   ]
  },
  {
   "cell_type": "markdown",
   "metadata": {},
   "source": [
    "![](./1002.png)"
   ]
  },
  {
   "cell_type": "code",
   "execution_count": null,
   "metadata": {},
   "outputs": [],
   "source": [
    "#4153\n",
    "\n",
    "import math\n",
    "\n",
    "t = int(input())\n",
    "\n",
    "for i in range(t+1):\n",
    "    a,b,c = map(int, input().split())\n",
    "    if a==0 and b==0 and c==0:\n",
    "        break\n",
    "    elif math.sqrt((a**2 + b**2)) == math.sqrt(c**2):\n",
    "        print(\"right\")\n",
    "    else:\n",
    "        print(\"wrong\")"
   ]
  },
  {
   "cell_type": "code",
   "execution_count": null,
   "metadata": {},
   "outputs": [],
   "source": [
    "#4153\n",
    "\n",
    "while True:\n",
    "    a,b,c = map(int, input().split())\n",
    "    \n",
    "    if a==0 and b==0 and c==0:\n",
    "        break\n",
    "\n",
    "    d = [a, b, c]\n",
    "    d.sort()\n",
    "    if (d[0])**2 +(d[1])**2 == d[2]**2:\n",
    "        print(\"right\")\n",
    "    else:\n",
    "        print(\"wrong\")"
   ]
  }
 ],
 "metadata": {
  "kernelspec": {
   "display_name": "Python 3.9.7 ('base')",
   "language": "python",
   "name": "python3"
  },
  "language_info": {
   "codemirror_mode": {
    "name": "ipython",
    "version": 3
   },
   "file_extension": ".py",
   "mimetype": "text/x-python",
   "name": "python",
   "nbconvert_exporter": "python",
   "pygments_lexer": "ipython3",
   "version": "3.9.7"
  },
  "orig_nbformat": 4,
  "vscode": {
   "interpreter": {
    "hash": "a3c188ba27af5f5512833ef10545bceafaf860d3a8c3b701ad4ada0313586957"
   }
  }
 },
 "nbformat": 4,
 "nbformat_minor": 2
}
