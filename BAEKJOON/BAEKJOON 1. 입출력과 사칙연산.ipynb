{
 "cells": [
  {
   "cell_type": "code",
   "execution_count": null,
   "id": "d81a0fa1",
   "metadata": {},
   "outputs": [],
   "source": [
    "#1000\n",
    "\n",
    "a, b = map(int, input().split())\n",
    "print(a + b)"
   ]
  },
  {
   "cell_type": "code",
   "execution_count": null,
   "id": "159a73d2",
   "metadata": {},
   "outputs": [],
   "source": [
    "#1001\n",
    "\n",
    "a, b = map(int, input().split())\n",
    "print(a - b)"
   ]
  },
  {
   "cell_type": "code",
   "execution_count": null,
   "id": "42f130a0",
   "metadata": {},
   "outputs": [],
   "source": [
    "#10998\n",
    "\n",
    "a, b = map(int, input().split())\n",
    "print(a *b)"
   ]
  },
  {
   "cell_type": "code",
   "execution_count": null,
   "id": "5e209a36",
   "metadata": {},
   "outputs": [],
   "source": [
    "#1008\n",
    "\n",
    "a, b = map(int, input().split())\n",
    "print(a/b)"
   ]
  },
  {
   "cell_type": "code",
   "execution_count": null,
   "id": "37b43f8f",
   "metadata": {},
   "outputs": [],
   "source": [
    "#10869\n",
    "\n",
    "a, b = map(int, input().split())\n",
    "print(a+b)\n",
    "print(a-b)\n",
    "print(a*b)\n",
    "print(a//b)\n",
    "print(a%b)"
   ]
  },
  {
   "cell_type": "code",
   "execution_count": null,
   "id": "04b0c616",
   "metadata": {},
   "outputs": [],
   "source": [
    "#10926\n",
    "\n",
    "print(input() + \"??!\")"
   ]
  },
  {
   "cell_type": "code",
   "execution_count": null,
   "id": "f510738f",
   "metadata": {},
   "outputs": [],
   "source": [
    "#18108\n",
    "\n",
    "a = int(input())\n",
    "b = a - 543\n",
    "print(b)"
   ]
  },
  {
   "cell_type": "code",
   "execution_count": null,
   "id": "b0df564e",
   "metadata": {},
   "outputs": [],
   "source": [
    "#10430\n",
    "\n",
    "a, b, c = map(int, input().split())\n",
    "print((a+b)%c)\n",
    "print(((a%c)+(b%c))%c)\n",
    "print((a*b)%c)\n",
    "print(((a%c)*(b%c))%c)"
   ]
  },
  {
   "cell_type": "code",
   "execution_count": null,
   "id": "2e4e753d",
   "metadata": {},
   "outputs": [],
   "source": [
    "#2588\n",
    "\n",
    "a = int(input())\n",
    "b = input()\n",
    "\n",
    "axb2 = a * int(b[2])\n",
    "axb1 = a * int(b[1])\n",
    "axb0 = a * int(b[0])\n",
    "axb = a * int(b)\n",
    "\n",
    "print(axb2, axb1, axb0, axb, sep='\\n')"
   ]
  },
  {
   "cell_type": "code",
   "execution_count": null,
   "id": "6e250d10",
   "metadata": {},
   "outputs": [],
   "source": [
    "#25083\n",
    "\n",
    "print(\"         ,r\\'\\\"7\")\n",
    "print(\"r`-_   ,\\'  ,/\")\n",
    "print(\" \\\\. \\\". L_r\\'\")\n",
    "print(\"   `~\\\\/\")\n",
    "print(\"      |\")\n",
    "print(\"      |\")"
   ]
  }
 ],
 "metadata": {
  "kernelspec": {
   "display_name": "Python 3 (ipykernel)",
   "language": "python",
   "name": "python3"
  },
  "language_info": {
   "codemirror_mode": {
    "name": "ipython",
    "version": 3
   },
   "file_extension": ".py",
   "mimetype": "text/x-python",
   "name": "python",
   "nbconvert_exporter": "python",
   "pygments_lexer": "ipython3",
   "version": "3.9.7"
  }
 },
 "nbformat": 4,
 "nbformat_minor": 5
}
