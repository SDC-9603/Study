{
 "cells": [
  {
   "cell_type": "code",
   "execution_count": null,
   "id": "ea9a8ae4",
   "metadata": {},
   "outputs": [],
   "source": [
    "#10818\n",
    "\n",
    "a = int(input())\n",
    "b = list(map(int, input().split()))\n",
    "print(min(b), max(b))"
   ]
  },
  {
   "cell_type": "code",
   "execution_count": null,
   "id": "9438f6df",
   "metadata": {},
   "outputs": [],
   "source": [
    "#2562\n",
    "\n",
    "a = []\n",
    "for i in range(9):\n",
    "    a.append(int(input()))\n",
    "    \n",
    "print(max(a))\n",
    "print(a.index(max(a))+1)"
   ]
  },
  {
   "cell_type": "code",
   "execution_count": null,
   "id": "fb033603",
   "metadata": {},
   "outputs": [],
   "source": [
    "#2577\n",
    "\n",
    "a = int(input())\n",
    "b = int(input())\n",
    "c = int(input())\n",
    "\n",
    "d = list(str(a*b*c))\n",
    "\n",
    "for i in range(10):\n",
    "    print(d.count(str(i)))"
   ]
  },
  {
   "cell_type": "code",
   "execution_count": null,
   "id": "d3eb83dd",
   "metadata": {},
   "outputs": [],
   "source": [
    "# 3052\n",
    "\n",
    "a = []\n",
    "for i in range(10):\n",
    "    b = int(input())\n",
    "    a.append(b%42)\n",
    "c = set(a)\n",
    "print(len(c))"
   ]
  },
  {
   "cell_type": "code",
   "execution_count": null,
   "id": "997d23d1",
   "metadata": {},
   "outputs": [],
   "source": [
    "#1546\n",
    "\n",
    "a = int(input())\n",
    "b = list(map(int, input().split()))\n",
    "c = max(b)\n",
    "\n",
    "for i in range(a):\n",
    "    b[i] = b[i]/c*100\n",
    "    \n",
    "print(\"%.2f\" %(sum(b)/a))"
   ]
  },
  {
   "cell_type": "code",
   "execution_count": null,
   "id": "216e432c",
   "metadata": {},
   "outputs": [],
   "source": [
    "#8958\n",
    "\n",
    "a = int(input())\n",
    "for i in range(a):\n",
    "    b = input()\n",
    "    s = list(b)\n",
    "    sum = 0\n",
    "    c = 1\n",
    "    for i in s:\n",
    "        if i =='O':\n",
    "            sum += c\n",
    "            c += 1\n",
    "        else:\n",
    "            c = 1\n",
    "    print(sum)"
   ]
  },
  {
   "cell_type": "code",
   "execution_count": null,
   "id": "0ad405e6",
   "metadata": {},
   "outputs": [],
   "source": [
    "#4344\n",
    "\n",
    "a = int(input())\n",
    "\n",
    "for i in range(a):\n",
    "    b = list(map(int, input().split()))\n",
    "    avg = sum(b[1:])/b[0]\n",
    "    \n",
    "    cnt = 0\n",
    "    for i in b[1:]:\n",
    "        if i > avg:\n",
    "            cnt += 1\n",
    "    per = (cnt/b[0])*100\n",
    "    print('%.3f' %per + '%')"
   ]
  }
 ],
 "metadata": {
  "kernelspec": {
   "display_name": "Python 3 (ipykernel)",
   "language": "python",
   "name": "python3"
  },
  "language_info": {
   "codemirror_mode": {
    "name": "ipython",
    "version": 3
   },
   "file_extension": ".py",
   "mimetype": "text/x-python",
   "name": "python",
   "nbconvert_exporter": "python",
   "pygments_lexer": "ipython3",
   "version": "3.9.7"
  }
 },
 "nbformat": 4,
 "nbformat_minor": 5
}
