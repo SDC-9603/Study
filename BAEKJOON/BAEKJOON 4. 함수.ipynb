{
 "cells": [
  {
   "cell_type": "code",
   "execution_count": null,
   "id": "3e7e74eb",
   "metadata": {},
   "outputs": [],
   "source": [
    "#15596\n",
    "\n",
    "def solve(a):\n",
    "    ans = 0\n",
    "    for i in a:\n",
    "        ans += i\n",
    "    return ans"
   ]
  },
  {
   "cell_type": "code",
   "execution_count": null,
   "id": "ef36b55c",
   "metadata": {},
   "outputs": [],
   "source": [
    "#4673\n",
    "\n",
    "a = set(rage(1, 10001))\n",
    "b = set()\n",
    "\n",
    "for i in range(1, 10001):\n",
    "    for j in str(i):\n",
    "        i += int(j)\n",
    "    b.add(i)\n",
    "    \n",
    "c = sorted(a-b)\n",
    "\n",
    "for i in c:\n",
    "    print(i)"
   ]
  },
  {
   "cell_type": "code",
   "execution_count": null,
   "id": "0f158266",
   "metadata": {},
   "outputs": [],
   "source": [
    "#1065\n",
    "\n",
    "def hansu(num):\n",
    "    hansu_cnt = 0\n",
    "    for i in range(1, num+1):\n",
    "        num_list = list(map(int, str(i)))\n",
    "        if i < 100:\n",
    "            hansu_cnt += 1\n",
    "        elif num_list[0]-num_list[1]  == num_list[1]-num_list[2]:\n",
    "            hansu_cnt += 1\n",
    "    return hansu_cnt\n",
    "\n",
    "num = int(input())\n",
    "print(hansu(num))"
   ]
  }
 ],
 "metadata": {
  "kernelspec": {
   "display_name": "Python 3 (ipykernel)",
   "language": "python",
   "name": "python3"
  },
  "language_info": {
   "codemirror_mode": {
    "name": "ipython",
    "version": 3
   },
   "file_extension": ".py",
   "mimetype": "text/x-python",
   "name": "python",
   "nbconvert_exporter": "python",
   "pygments_lexer": "ipython3",
   "version": "3.9.7"
  }
 },
 "nbformat": 4,
 "nbformat_minor": 5
}
