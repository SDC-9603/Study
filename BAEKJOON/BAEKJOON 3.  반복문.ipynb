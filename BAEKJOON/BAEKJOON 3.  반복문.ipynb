{
 "cells": [
  {
   "cell_type": "code",
   "execution_count": null,
   "id": "f18d5bca",
   "metadata": {},
   "outputs": [],
   "source": [
    "#2739\n",
    "\n",
    "a = int(input())\n",
    "\n",
    "for i in range(1, 10):\n",
    "    print(a, '*', i, '=', a * i)"
   ]
  },
  {
   "cell_type": "code",
   "execution_count": null,
   "id": "bf9ba273",
   "metadata": {},
   "outputs": [],
   "source": [
    "#10950\n",
    "\n",
    "t = int(input())\n",
    "\n",
    "for i in range(t):\n",
    "    a,b = map(int, input().split())\n",
    "    print(a+b)"
   ]
  },
  {
   "cell_type": "code",
   "execution_count": null,
   "id": "1242ae52",
   "metadata": {},
   "outputs": [],
   "source": [
    "#8393\n",
    "\n",
    "a = int(input())\n",
    "b = 0\n",
    "\n",
    "for i in range(1, a+1):\n",
    "    b += i\n",
    "print(b)"
   ]
  },
  {
   "cell_type": "code",
   "execution_count": null,
   "id": "bafdcc1b",
   "metadata": {},
   "outputs": [],
   "source": [
    "#15552\n",
    "\n",
    "import sys\n",
    "\n",
    "t = int(sys.stdin.readline())\n",
    "\n",
    "for i in range(t):\n",
    "    a,b = map(int, sys.stdin.readline().split())\n",
    "    print(a+b)"
   ]
  },
  {
   "cell_type": "code",
   "execution_count": null,
   "id": "a2fe7f4e",
   "metadata": {},
   "outputs": [],
   "source": [
    "#2741\n",
    "\n",
    "a = int(input())\n",
    "\n",
    "for i in range(1, a+1):\n",
    "    print(0 + i)"
   ]
  },
  {
   "cell_type": "code",
   "execution_count": null,
   "id": "a66b0fa4",
   "metadata": {},
   "outputs": [],
   "source": [
    "#2742\n",
    "\n",
    "a = int(input())\n",
    "\n",
    "for i in range(1, a+1):\n",
    "    print((a+1)- i)"
   ]
  },
  {
   "cell_type": "code",
   "execution_count": null,
   "id": "9a41505f",
   "metadata": {},
   "outputs": [],
   "source": [
    "#11021\n",
    "\n",
    "c = int(input())\n",
    "\n",
    "for i in range(1, c+1):\n",
    "    a,b = map(int, input().split())\n",
    "    print(f'Case #{i}: {a+b}')"
   ]
  },
  {
   "cell_type": "code",
   "execution_count": null,
   "id": "1133e1bd",
   "metadata": {},
   "outputs": [],
   "source": [
    "#11022\n",
    "\n",
    "c = int(input())\n",
    "\n",
    "for i in range(1, c+1):\n",
    "    a,b = map(int, input().split())\n",
    "    print(f'Case #{i}: {a} + {b} = {a + b}')"
   ]
  },
  {
   "cell_type": "code",
   "execution_count": null,
   "id": "3d4c10da",
   "metadata": {},
   "outputs": [],
   "source": [
    "#2438\n",
    "\n",
    "a = int(input())\n",
    "\n",
    "for i in range(1, a+1):\n",
    "    print('*'*i)"
   ]
  },
  {
   "cell_type": "code",
   "execution_count": null,
   "id": "adda8b84",
   "metadata": {},
   "outputs": [],
   "source": [
    "#2439\n",
    "\n",
    "a = int(input())\n",
    "\n",
    "for i in  range(1, a+1):\n",
    "    print(' '*(a-i) + '*'*i)"
   ]
  },
  {
   "cell_type": "code",
   "execution_count": null,
   "id": "e0cdd13b",
   "metadata": {},
   "outputs": [],
   "source": [
    "#10871\n",
    "\n",
    "a,b = map(int, input().split())\n",
    "c = list(map(int, input().split()))\n",
    "\n",
    "for i in range(a):\n",
    "    if c[i] < b:\n",
    "        print(c[i], end=\" \")"
   ]
  },
  {
   "cell_type": "code",
   "execution_count": null,
   "id": "5b747364",
   "metadata": {},
   "outputs": [],
   "source": [
    "#10952\n",
    "\n",
    "while True:\n",
    "    a,b= map(int, input().split())\n",
    "    if (a==0 and b==0):\n",
    "        break\n",
    "    else:\n",
    "        print(a+b)"
   ]
  },
  {
   "cell_type": "code",
   "execution_count": null,
   "id": "e94ccc3c",
   "metadata": {},
   "outputs": [],
   "source": [
    "#10951\n",
    "\n",
    "while True:\n",
    "    try:\n",
    "        a,b = map(int, input().split())\n",
    "    except:\n",
    "        break\n",
    "    print(a + b)"
   ]
  },
  {
   "cell_type": "code",
   "execution_count": null,
   "id": "2c4e87de",
   "metadata": {},
   "outputs": [],
   "source": [
    "#1110\n",
    "\n",
    "N = int(input())\n",
    "num = N\n",
    "count = 0\n",
    "\n",
    "while True:\n",
    "    a = num//10\n",
    "    b = num%10\n",
    "    c = (a+b)%10\n",
    "    num = (b*10)+c\n",
    "    count += 1\n",
    "    if(num == N):\n",
    "        break\n",
    "print(count)"
   ]
  }
 ],
 "metadata": {
  "kernelspec": {
   "display_name": "Python 3 (ipykernel)",
   "language": "python",
   "name": "python3"
  },
  "language_info": {
   "codemirror_mode": {
    "name": "ipython",
    "version": 3
   },
   "file_extension": ".py",
   "mimetype": "text/x-python",
   "name": "python",
   "nbconvert_exporter": "python",
   "pygments_lexer": "ipython3",
   "version": "3.9.7"
  }
 },
 "nbformat": 4,
 "nbformat_minor": 5
}
