{
 "cells": [
  {
   "cell_type": "code",
   "execution_count": null,
   "metadata": {},
   "outputs": [],
   "source": [
    "#2775\n",
    "\n",
    "t = int(input())\n",
    "\n",
    "for i in range(t):\n",
    "    floor = int(input())\n",
    "    num = int(input())\n",
    "    people = [i for i in range(1, num+1)]\n",
    "\n",
    "    for j in range(floor):\n",
    "        for i in range(1, num):\n",
    "            people[i] += people[i-1]\n",
    "    print(people[-1])"
   ]
  },
  {
   "cell_type": "markdown",
   "metadata": {},
   "source": [
    "![](./2775.png)"
   ]
  },
  {
   "cell_type": "code",
   "execution_count": null,
   "metadata": {},
   "outputs": [],
   "source": [
    "#2609\n",
    "\n",
    "import math\n",
    "\n",
    "a,b = map(int, input().split())\n",
    "\n",
    "print(math.gcd(a, b))\n",
    "print(math.lcm(a, b))"
   ]
  },
  {
   "cell_type": "code",
   "execution_count": null,
   "metadata": {},
   "outputs": [],
   "source": [
    "#2609\n",
    "\n",
    "a,b = map(int, input().split())\n",
    "\n",
    "def gcd(a, b):\n",
    "    while b>0:\n",
    "        a, b  = b, a%b # tuple assighment\n",
    "    return a\n",
    "\n",
    "def lcm(a, b):\n",
    "    return a*b // gcd(a, b)\n",
    "\n",
    "print(gcd(a, b))\n",
    "print(lcm(a, b))"
   ]
  },
  {
   "cell_type": "code",
   "execution_count": null,
   "metadata": {},
   "outputs": [],
   "source": [
    "#10039\n",
    "\n",
    "a = 0\n",
    "for i in range(5):\n",
    "    x = int(input())\n",
    "    if x < 40:\n",
    "        a += 40\n",
    "    else:\n",
    "        a += x\n",
    "\n",
    "print(int(a // 5))"
   ]
  },
  {
   "cell_type": "code",
   "execution_count": null,
   "metadata": {},
   "outputs": [],
   "source": [
    "#2581\n",
    "\n",
    "a = int(input())\n",
    "b = int(input())\n",
    "c = []\n",
    "\n",
    "for num in range(a, b+1):\n",
    "    error = 0\n",
    "    if num > 1:\n",
    "        for i in range(2, num):\n",
    "            if num % i == 0:\n",
    "                error += 1\n",
    "                break\n",
    "        if error == 0:\n",
    "            c.append(num)\n",
    "\n",
    "if len(c) >0:\n",
    "    print(sum(c))\n",
    "    print(min(c))\n",
    "else:\n",
    "    print(-1)"
   ]
  }
 ],
 "metadata": {
  "kernelspec": {
   "display_name": "Python 3.9.7 ('base')",
   "language": "python",
   "name": "python3"
  },
  "language_info": {
   "codemirror_mode": {
    "name": "ipython",
    "version": 3
   },
   "file_extension": ".py",
   "mimetype": "text/x-python",
   "name": "python",
   "nbconvert_exporter": "python",
   "pygments_lexer": "ipython3",
   "version": "3.9.7"
  },
  "orig_nbformat": 4,
  "vscode": {
   "interpreter": {
    "hash": "a3c188ba27af5f5512833ef10545bceafaf860d3a8c3b701ad4ada0313586957"
   }
  }
 },
 "nbformat": 4,
 "nbformat_minor": 2
}
