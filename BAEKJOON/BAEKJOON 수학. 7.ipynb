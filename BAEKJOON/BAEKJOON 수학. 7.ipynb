{
 "cells": [
  {
   "cell_type": "code",
   "execution_count": null,
   "metadata": {},
   "outputs": [],
   "source": [
    "#1676\n",
    "# 오답 \n",
    "\n",
    "import math\n",
    "\n",
    "a = int(input())\n",
    "\n",
    "b = math.factorial(a)\n",
    "cnt =0\n",
    "\n",
    "for i in str(b):\n",
    "    if i == '0':\n",
    "        cnt += 1\n",
    "\n",
    "print(cnt)"
   ]
  },
  {
   "cell_type": "code",
   "execution_count": null,
   "metadata": {},
   "outputs": [],
   "source": [
    "#1676\n",
    "\n",
    "a = int(input())\n",
    "\n",
    "print(a//5 + a//25 + a // 125)"
   ]
  },
  {
   "cell_type": "code",
   "execution_count": null,
   "metadata": {},
   "outputs": [],
   "source": [
    "#3053\n",
    "\n",
    "import math\n",
    "\n",
    "a = int(input())\n",
    "\n",
    "print(math.pi * a**2)\n",
    "print(2 * a**2)"
   ]
  },
  {
   "cell_type": "code",
   "execution_count": 40,
   "metadata": {},
   "outputs": [
    {
     "name": "stdout",
     "output_type": "stream",
     "text": [
      "2\n",
      "2\n",
      "1\n",
      "10\n"
     ]
    }
   ],
   "source": [
    "#2108\n",
    "\n",
    "n = int(input())\n",
    "\n",
    "nums = []\n",
    "for _ in range(n) :\n",
    "\tnums.append(int(input()))\n",
    "\n",
    "# 산술평균\n",
    "print(round(sum(nums)/n))\n",
    "\n",
    "# 중앙값\n",
    "nums.sort()\n",
    "print(nums[int((n-1)/2)])\n",
    "\n",
    "# 최빈값\n",
    "counts = dict()\n",
    "for i in range(1,n+1) :\n",
    "\tcounts[i] = []\n",
    "\n",
    "maxCount = 1\n",
    "count = 1\n",
    "for j in range(1,n) :\n",
    "\tif nums[j] == nums[j-1] :\n",
    "\t\tcount += 1\n",
    "\telse :\n",
    "\t\tcounts[count].append(nums[j-1])\n",
    "\t\tif maxCount < count : maxCount = count\n",
    "\t\tcount = 1\n",
    "\tif j == n-1 : \n",
    "\t\tcounts[count].append(nums[j])\n",
    "\t\tif maxCount < count : maxCount = count\n",
    "\n",
    "if n == 1 :\n",
    "\tcounts[1].append(nums[0])\n",
    "\n",
    "counts[maxCount].sort()\n",
    "if len(counts[maxCount]) == 1 :\n",
    "\tprint(counts[maxCount][0])\n",
    "else :\n",
    "\tprint(counts[maxCount][1])\n",
    "\n",
    "# 범위\n",
    "print(nums[-1]-nums[0])"
   ]
  },
  {
   "cell_type": "code",
   "execution_count": null,
   "metadata": {},
   "outputs": [],
   "source": []
  }
 ],
 "metadata": {
  "kernelspec": {
   "display_name": "Python 3.9.7 ('base')",
   "language": "python",
   "name": "python3"
  },
  "language_info": {
   "codemirror_mode": {
    "name": "ipython",
    "version": 3
   },
   "file_extension": ".py",
   "mimetype": "text/x-python",
   "name": "python",
   "nbconvert_exporter": "python",
   "pygments_lexer": "ipython3",
   "version": "3.9.7"
  },
  "orig_nbformat": 4,
  "vscode": {
   "interpreter": {
    "hash": "a3c188ba27af5f5512833ef10545bceafaf860d3a8c3b701ad4ada0313586957"
   }
  }
 },
 "nbformat": 4,
 "nbformat_minor": 2
}
